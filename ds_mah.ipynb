{
 "cells": [
  {
   "cell_type": "code",
   "execution_count": null,
   "id": "76fe1a0d",
   "metadata": {},
   "outputs": [],
   "source": [
    "import os\n",
    "\n",
    "import numpy as np\n",
    "import pandas as pd\n",
    "import matplotlib.pyplot as plt\n",
    "import warnings\n",
    "from pandas.errors import ParserWarning\n",
    "\n",
    "warnings.simplefilter(action='ignore', category=ParserWarning)\n",
    "warnings.simplefilter(action='ignore', category=FutureWarning)\n",
    "\n",
    "import utils.data as datutils"
   ]
  },
  {
   "cell_type": "code",
   "execution_count": null,
   "id": "ed8c079b",
   "metadata": {},
   "outputs": [],
   "source": [
    "mah_df_list = []\n",
    "dir = 'data/gadgetx3k_20/AHF_History/'\n",
    "for f in os.listdir(dir):\n",
    "    file = dir + f\n",
    "    mm0 = datutils.load_mah(file)\n",
    "    mah_df_list.append(mm0)"
   ]
  },
  {
   "cell_type": "code",
   "execution_count": null,
   "id": "c9e4039b",
   "metadata": {},
   "outputs": [],
   "source": [
    "dsdf = pd.read_csv(\n",
    "    'data/gadgetx3k_20/G3X_progenitors/DS_G3X_snap_128_center-cluster_progenitors.txt',\n",
    "    sep=r'\\s+', header=0)\n",
    "\n",
    "int_columns = [0, 1, 2, 7]\n",
    "column_names = dsdf.columns\n",
    "\n",
    "for idx in range(len(column_names)):\n",
    "    col_name = column_names[idx]\n",
    "    if idx in int_columns:\n",
    "        dsdf[col_name] = dsdf[col_name].astype(int)\n",
    "    else:\n",
    "        dsdf[col_name] = dsdf[col_name].astype(float)\n",
    "dsdf.drop(columns=['rID[0]', 'Hid[1]', 'DS_200[2]', 'DS_500[7]'], inplace=True)"
   ]
  },
  {
   "cell_type": "code",
   "execution_count": null,
   "id": "db0a3ab7",
   "metadata": {},
   "outputs": [],
   "source": [
    "corrs_list = []\n",
    "z_list = []\n",
    "mah_ds_dict = {}\n",
    "for z in mah_df_list[0]['Redshift']:\n",
    "    mah_df = pd.DataFrame(columns=['M/M0'])\n",
    "\n",
    "    for region in range(20):\n",
    "        row = mah_df_list[region].loc[mah_df_list[region]\n",
    "                                      ['Redshift'] == z, ['M/M0']]\n",
    "        if not row.empty:\n",
    "            mah_df = pd.concat([mah_df, row], ignore_index=True)\n",
    "\n",
    "    if mah_df.shape[0] != dsdf[:20].shape[0]:\n",
    "        # print(\n",
    "        #     f\"Skipping redshift {z}: mismatched rows {mah_df.shape[0]} vs {dsdf.shape[0]}\")\n",
    "        continue\n",
    "\n",
    "    df = pd.concat([mah_df.reset_index(drop=True),\n",
    "                   dsdf[:20].reset_index(drop=True)], axis=1)\n",
    "    mah_ds_dict[z] = df\n",
    "    corrs = df.corr(method='spearman')\n",
    "    corrs_list.append(corrs)\n",
    "    z_list.append(z)\n",
    "\n",
    "z_array = np.array(z_list)\n",
    "aexp = 1/(1+z_array)"
   ]
  },
  {
   "cell_type": "code",
   "execution_count": null,
   "id": "19e86479",
   "metadata": {},
   "outputs": [],
   "source": [
    "eta_200 = [df.loc['eta_200[3]', 'M/M0'] for df in corrs_list]\n",
    "delta_200 = [df.loc['delta_200[4]', 'M/M0'] for df in corrs_list]\n",
    "fm_200 = [df.loc['fm_200[5]', 'M/M0'] for df in corrs_list]\n",
    "fm2_200 = [df.loc['fm2_200[6]', 'M/M0'] for df in corrs_list]\n",
    "eta_500 = [df.loc['eta_500[8]', 'M/M0'] for df in corrs_list]\n",
    "delta_500 = [df.loc['delta_500[9]', 'M/M0'] for df in corrs_list]\n",
    "fm_500 = [df.loc['fm_500[10]', 'M/M0'] for df in corrs_list]\n",
    "fm2_500 = [df.loc['fm2_500[11]', 'M/M0'] for df in corrs_list]"
   ]
  },
  {
   "cell_type": "code",
   "execution_count": null,
   "id": "6eeffd0a",
   "metadata": {},
   "outputs": [],
   "source": [
    "fig, axs = plt.subplots(nrows=1, ncols=1, figsize=(6, 6))\n",
    "axs.set_title('R200')\n",
    "axs.plot(aexp, eta_200, label='eta')\n",
    "axs.plot(aexp, delta_200, label='delta')\n",
    "axs.plot(aexp, fm_200, label='fm')\n",
    "axs.plot(aexp, fm2_200, label='fm2')\n",
    "axs.set_xlabel('Scale Factor a = 1/(1+z)')\n",
    "axs.set_ylabel(r'$\\rho_s (DS_{a=1}, M/M_0)$')\n",
    "axs.grid()\n",
    "plt.legend()\n",
    "plt.show()"
   ]
  },
  {
   "cell_type": "code",
   "execution_count": null,
   "id": "0a488564",
   "metadata": {},
   "outputs": [],
   "source": [
    "fig, axs = plt.subplots(nrows=1, ncols=1, figsize=(6, 6))\n",
    "axs.set_title('R500')\n",
    "axs.plot(aexp, eta_500, label='eta')\n",
    "axs.plot(aexp, delta_500, label='delta')\n",
    "axs.plot(aexp, fm_500, label='fm')\n",
    "axs.plot(aexp, fm2_500, label='fm2')\n",
    "axs.set_xlabel('Scale Factor a = 1/(1+z)')\n",
    "axs.set_ylabel(r'$\\rho_s (DS_{a=1}, M/M_0)$')\n",
    "axs.grid()\n",
    "plt.legend()\n",
    "plt.show()"
   ]
  },
  {
   "cell_type": "code",
   "execution_count": null,
   "id": "e58bb473",
   "metadata": {},
   "outputs": [],
   "source": [
    "fm2_200_p10 = datutils.get_perc(mah_ds_dict, param='fm2_200[6]', q=10)\n",
    "fm2_200_p25 = datutils.get_perc(mah_ds_dict, param='fm2_200[6]', q=25)\n",
    "fm2_200_p50 = datutils.get_perc(mah_ds_dict, param='fm2_200[6]', q=50)\n",
    "fm2_200_p75 = datutils.get_perc(mah_ds_dict, param='fm2_200[6]', q=75)\n",
    "fm2_200_p90 = datutils.get_perc(mah_ds_dict, param='fm2_200[6]', q=90)"
   ]
  },
  {
   "cell_type": "code",
   "execution_count": null,
   "id": "0eaf0fad",
   "metadata": {},
   "outputs": [],
   "source": [
    "fig, axs = plt.subplots(nrows=1, ncols=1, figsize=(6, 6))\n",
    "axs.set_title('fm2_200')\n",
    "axs.plot(aexp, fm2_200_p50, color='b')\n",
    "axs.fill_between(aexp, fm2_200_p10, fm2_200_p90, color='b', alpha=0.2)\n",
    "axs.fill_between(aexp, fm2_200_p25, fm2_200_p75, color='b', alpha=0.3)\n",
    "axs.set_xlabel('Scale Factor a = 1/(1+z)')\n",
    "axs.set_ylabel(r'$\\rho_s (DS_{a=1}, M/M_0)$')\n",
    "axs.grid()\n",
    "plt.show()"
   ]
  },
  {
   "cell_type": "markdown",
   "id": "d70f6bdd",
   "metadata": {},
   "source": [
    "### Now for aexp(M/M0)..."
   ]
  },
  {
   "cell_type": "code",
   "execution_count": null,
   "id": "27820b4b",
   "metadata": {},
   "outputs": [],
   "source": [
    "size = 100  \n",
    "mm0 = np.linspace(1e-5, 1, size)      # set up mah array\n",
    "mm0_dict = {}\n",
    "for m in mm0:\n",
    "    # create dataframe for each mm0 value\n",
    "    mm0_dict[m] = pd.DataFrame(columns=['aexp'])"
   ]
  },
  {
   "cell_type": "code",
   "execution_count": null,
   "id": "75ec05c4",
   "metadata": {},
   "outputs": [],
   "source": [
    "tol = 1e-2\n",
    "for mah in mah_df_list:\n",
    "    # For each row in each mah snap, if it is close to an mm0 value then go to\n",
    "    # dataframe at corresponding mm0_dict key and add the row(s) to that df.\n",
    "    # In the end, for each mm0 value there is a df of aexp values.\n",
    "    for m in mm0:\n",
    "        err = np.abs((mah['M/M0'] - m))\n",
    "        mask = err < tol\n",
    "        mm0_dict[m] = pd.concat([mm0_dict[m], mah['aexp'][mask]])"
   ]
  },
  {
   "cell_type": "code",
   "execution_count": null,
   "id": "d6d422e7",
   "metadata": {},
   "outputs": [],
   "source": [
    "# now we assemble the dictionary of ds+aexp params\n",
    "# each key is an mm0 val, each val is the joint df\n",
    "ds_aexp_dict = {}\n",
    "for k, df in mm0_dict.items():\n",
    "   if len(df) > len(dsdf):\n",
    "      df1 = df.sample(len(dsdf))\n",
    "      df2 = dsdf\n",
    "   else:\n",
    "      df1 = df\n",
    "      df2 = dsdf.sample(len(dsdf))\n",
    "   ds_aexp_dict[k] = pd.concat([df2.reset_index(drop=True),\n",
    "                                df1.reset_index(drop=True)], axis=1)"
   ]
  },
  {
   "cell_type": "code",
   "execution_count": null,
   "id": "0a6e37d1",
   "metadata": {},
   "outputs": [],
   "source": [
    "ds_aexp_corrs = {}\n",
    "for k, v in ds_aexp_dict.items():\n",
    "    ds_aexp_corrs[k] = v.corr(method='spearman')"
   ]
  },
  {
   "cell_type": "code",
   "execution_count": null,
   "id": "b1771122",
   "metadata": {},
   "outputs": [],
   "source": [
    "eta_200 = [df.loc['eta_200[3]', 'aexp'] for _, df in ds_aexp_corrs.items()]\n",
    "delta_200 = [df.loc['delta_200[4]', 'aexp'] for _, df in ds_aexp_corrs.items()]\n",
    "fm_200 = [df.loc['fm_200[5]', 'aexp'] for _, df in ds_aexp_corrs.items()]\n",
    "fm2_200 = [df.loc['fm2_200[6]', 'aexp'] for _, df in ds_aexp_corrs.items()]\n",
    "eta_500 = [df.loc['eta_500[8]', 'aexp'] for _, df in ds_aexp_corrs.items()]\n",
    "delta_500 = [df.loc['delta_500[9]', 'aexp'] for _, df in ds_aexp_corrs.items()]\n",
    "fm_500 = [df.loc['fm_500[10]', 'aexp'] for _, df in ds_aexp_corrs.items()]\n",
    "fm2_500 = [df.loc['fm2_500[11]', 'aexp'] for _, df in ds_aexp_corrs.items()]"
   ]
  },
  {
   "cell_type": "code",
   "execution_count": null,
   "id": "23ae0b29",
   "metadata": {},
   "outputs": [],
   "source": [
    "fig, axs = plt.subplots(nrows=2, ncols=2, figsize=(16, 8))\n",
    "fig.suptitle('R200')\n",
    "\n",
    "axs[0, 0].plot(mm0, eta_200, label='eta')\n",
    "axs[0, 0].grid()\n",
    "axs[0, 0].legend()\n",
    "\n",
    "axs[0, 1].plot(mm0, delta_200, label='delta')\n",
    "axs[0, 1].grid()\n",
    "axs[0, 1].legend()\n",
    "\n",
    "axs[1, 0].plot(mm0, fm_200, label='fm')\n",
    "axs[1, 0].grid()\n",
    "axs[1, 0].legend()\n",
    "\n",
    "axs[1, 1].plot(mm0, fm2_200, label='fm2')\n",
    "axs[1, 1].grid()\n",
    "axs[1, 1].legend()\n",
    "\n",
    "axs[1, 0].set_xlabel('M/M0')\n",
    "axs[1, 1].set_xlabel('M/M0')\n",
    "axs[0, 0].set_ylabel(r'$\\rho_s (DS_{a=1},aexp)$')\n",
    "axs[1, 0].set_ylabel(r'$\\rho_s (DS_{a=1},aexp)$')\n",
    "\n",
    "plt.tight_layout()\n",
    "plt.legend()\n",
    "plt.show()"
   ]
  },
  {
   "cell_type": "code",
   "execution_count": null,
   "id": "f8429bee",
   "metadata": {},
   "outputs": [],
   "source": []
  }
 ],
 "metadata": {
  "kernelspec": {
   "display_name": "cluster_morph",
   "language": "python",
   "name": "python3"
  },
  "language_info": {
   "codemirror_mode": {
    "name": "ipython",
    "version": 3
   },
   "file_extension": ".py",
   "mimetype": "text/x-python",
   "name": "python",
   "nbconvert_exporter": "python",
   "pygments_lexer": "ipython3",
   "version": "3.13.0"
  }
 },
 "nbformat": 4,
 "nbformat_minor": 5
}
