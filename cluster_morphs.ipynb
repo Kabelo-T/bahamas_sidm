{
 "cells": [
  {
   "cell_type": "code",
   "execution_count": null,
   "metadata": {},
   "outputs": [],
   "source": [
    "import os\n",
    "\n",
    "import numpy as np\n",
    "import pandas as pd\n",
    "import matplotlib.pyplot as plt\n",
    "from matplotlib.patches import Circle\n",
    "from matplotlib.colors import LogNorm\n",
    "from astropy.io import fits\n",
    "import importlib\n",
    "\n",
    "import statmorph\n",
    "from statmorph.utils.image_diagnostics import make_figure\n",
    "\n",
    "import utils.data as datutils\n",
    "import utils.plots as plots\n",
    "import utils.image as imutils\n",
    "%matplotlib inline"
   ]
  },
  {
   "cell_type": "code",
   "execution_count": null,
   "metadata": {},
   "outputs": [],
   "source": [
    "import warnings\n",
    "from pandas.errors import ParserWarning\n",
    "\n",
    "warnings.simplefilter(action='ignore', category=ParserWarning)\n",
    "warnings.simplefilter(action='ignore', category=FutureWarning)"
   ]
  },
  {
   "cell_type": "code",
   "execution_count": null,
   "metadata": {},
   "outputs": [],
   "source": [
    "plt.rcParams['xtick.labelsize'] = 13\n",
    "plt.rcParams['ytick.labelsize'] = 13\n",
    "plt.rcParams['axes.labelsize'] = 13\n",
    "plt.rcParams[\"mathtext.fontset\"] = \"cm\"\n",
    "plt.rcParams[\"font.family\"] = \"serif\""
   ]
  },
  {
   "cell_type": "markdown",
   "metadata": {},
   "source": [
    "# Main"
   ]
  },
  {
   "cell_type": "code",
   "execution_count": null,
   "metadata": {},
   "outputs": [],
   "source": [
    "for fnum in np.arange(start=5, stop=10):\n",
    "    print(str(fnum).center(10, '-'))\n",
    "    bcg_file_0 = f'data/gadget3k_20/bcg_{str(fnum).zfill(4)}_125_0.fits'\n",
    "    bcg_file_1 = f'data/gadget3k_20/bcg_{str(fnum).zfill(4)}_125_1.fits'\n",
    "    bcg_file_2 = f'data/gadget3k_20/bcg_{str(fnum).zfill(4)}_125_2.fits'\n",
    "    try:\n",
    "        hdulist = fits.open(bcg_file_0)\n",
    "    except: \n",
    "        continue\n",
    "    bcg0 = hdulist[0].data\n",
    "    hdulist = fits.open(bcg_file_1)\n",
    "    bcg1 = hdulist[0].data\n",
    "    hdulist = fits.open(bcg_file_2)\n",
    "    bcg2 = hdulist[0].data\n",
    "    fig, axs = plt.subplots(figsize=(16, 8), nrows=1, ncols=3)\n",
    "    plots.display_img(image=bcg0, axs=axs[0])\n",
    "    plots.display_img(image=bcg1, axs=axs[1])\n",
    "    plots.display_img(image=bcg2, axs=axs[2])\n",
    "    plt.show()"
   ]
  },
  {
   "cell_type": "code",
   "execution_count": null,
   "metadata": {},
   "outputs": [],
   "source": [
    "bcg_file_0 = 'data/bcg_all/bcg_0001_125_0.fits'\n",
    "bcg_file_1 = 'data/bcg_all/bcg_0001_125_1.fits'\n",
    "bcg_file_2 = 'data/bcg_all/bcg_0001_125_2.fits'\n",
    "hdulist = fits.open(bcg_file_0)\n",
    "bcg0 = hdulist[0].data\n",
    "hdulist = fits.open(bcg_file_1)\n",
    "bcg1 = hdulist[0].data\n",
    "hdulist = fits.open(bcg_file_2)\n",
    "bcg2 = hdulist[0].data"
   ]
  },
  {
   "cell_type": "code",
   "execution_count": null,
   "metadata": {},
   "outputs": [],
   "source": [
    "fig, axs = plt.subplots(figsize=(16, 8), nrows=1, ncols=3)\n",
    "plots.display_img(image=bcg0, axs=axs[0])\n",
    "plots.display_img(image=bcg1, axs=axs[1])\n",
    "plots.display_img(image=bcg2, axs=axs[2])\n",
    "plt.show()"
   ]
  },
  {
   "cell_type": "code",
   "execution_count": null,
   "metadata": {},
   "outputs": [],
   "source": [
    "center = (len(bcg0[1])//2, len(bcg0[0])//2)\n",
    "print(center)"
   ]
  },
  {
   "cell_type": "code",
   "execution_count": null,
   "metadata": {},
   "outputs": [],
   "source": [
    "radius = 100\n",
    "fig, axs = plt.subplots(nrows=1, ncols=1)\n",
    "plots.display_img(image=bcg0,  axs=axs)\n",
    "for scale in np.linspace(1, 10, num=5):\n",
    "    circle = Circle((center[0], center[1]), radius*scale,\n",
    "                    color='red', fill=False, linewidth=1.5)\n",
    "\n",
    "    axs.add_patch(circle)\n",
    "plt.show()"
   ]
  },
  {
   "cell_type": "code",
   "execution_count": null,
   "metadata": {},
   "outputs": [],
   "source": [
    "morphs_list = []\n",
    "for scale in np.linspace(1, 10, num=5):\n",
    "    bcg_mask = imutils.circular_mask(image=bcg0, image_center=center, \n",
    "                                    radius=scale*radius)\n",
    "    morph = statmorph.source_morphology(image=bcg0, segmap=bcg_mask, gain=2.25)\n",
    "    morphs_list.append(morph[0]) \n",
    "\n",
    "bcg0_df = datutils.create_morph_df(\n",
    "    morphs_list, name='results/bcg0.csv', save=True)\n",
    "bcg0_df['radius'] = radius * np.linspace(1, 10, num=5)\n",
    "bcg0_df.to_csv('results/bcg0.csv')"
   ]
  },
  {
   "cell_type": "code",
   "execution_count": null,
   "metadata": {},
   "outputs": [],
   "source": [
    "morphs_list = []\n",
    "for scale in np.linspace(1, 10, num=5):\n",
    "    bcg_mask = imutils.circular_mask(image=bcg1, image_center=center,\n",
    "                                        radius=scale*radius)\n",
    "    morph = statmorph.source_morphology(image=bcg1, segmap=bcg_mask, gain=2.25)\n",
    "    morphs_list.append(morph[0])\n",
    "\n",
    "bcg1_df = datutils.create_morph_df(\n",
    "    morphs_list, name='results/bcg1.csv', save=True)\n",
    "bcg1_df['radius'] = radius * np.linspace(1, 10, num=5)\n",
    "bcg1_df.to_csv('results/bcg1.csv')"
   ]
  },
  {
   "cell_type": "code",
   "execution_count": null,
   "metadata": {},
   "outputs": [],
   "source": [
    "morphs_list = []\n",
    "for scale in np.linspace(1, 10, num=5):\n",
    "    bcg_mask = imutils.circular_mask(image=bcg2, image_center=center,\n",
    "                                        radius=scale*radius)\n",
    "    morph = statmorph.source_morphology(image=bcg2, segmap=bcg_mask, gain=2.25)\n",
    "    morphs_list.append(morph[0])\n",
    "\n",
    "bcg2_df = datutils.create_morph_df(\n",
    "    morphs_list, name='results/bcg2.csv', save=True)\n",
    "bcg2_df['radius'] = radius * np.linspace(1, 10, num=5)\n",
    "bcg2_df.to_csv('results/bcg2.csv')"
   ]
  },
  {
   "cell_type": "markdown",
   "metadata": {},
   "source": [
    "# Correlations"
   ]
  },
  {
   "cell_type": "markdown",
   "metadata": {},
   "source": [
    "## DS & MAH"
   ]
  },
  {
   "cell_type": "markdown",
   "metadata": {},
   "source": [
    "### First MM0(a)..."
   ]
  },
  {
   "cell_type": "code",
   "execution_count": null,
   "metadata": {},
   "outputs": [],
   "source": [
    "mah_df_list = []\n",
    "dir = 'data/gadgetx3k_20/AHF_History/'\n",
    "for f in os.listdir(dir):\n",
    "    file = dir + f\n",
    "    mm0 = datutils.load_mah(file)\n",
    "    mah_df_list.append(mm0)"
   ]
  },
  {
   "cell_type": "code",
   "execution_count": null,
   "metadata": {},
   "outputs": [],
   "source": [
    "dsdf = pd.read_csv(\n",
    "    'data/gadgetx3k_20/G3X_progenitors/DS_G3X_snap_128_center-cluster_progenitors.txt',\n",
    "    sep=r'\\s+', header=0)\n",
    "\n",
    "int_columns = [0, 1, 2, 7]\n",
    "column_names = dsdf.columns\n",
    "\n",
    "for idx in range(len(column_names)):\n",
    "    col_name = column_names[idx]\n",
    "    if idx in int_columns:\n",
    "        dsdf[col_name] = dsdf[col_name].astype(int)\n",
    "    else:\n",
    "        dsdf[col_name] = dsdf[col_name].astype(float)\n",
    "dsdf.drop(columns=['rID[0]', 'Hid[1]', 'DS_200[2]', 'DS_500[7]'], inplace=True)"
   ]
  },
  {
   "cell_type": "code",
   "execution_count": null,
   "metadata": {},
   "outputs": [],
   "source": [
    "corrs_list = []\n",
    "z_list = []\n",
    "mah_ds_dict = {}\n",
    "for z in mah_df_list[0]['Redshift']:\n",
    "    mah_df = pd.DataFrame(columns=['M/M0'])\n",
    "\n",
    "    for region in range(20):\n",
    "        row = mah_df_list[region].loc[mah_df_list[region]['Redshift'] == z, ['M/M0']]\n",
    "        if not row.empty:\n",
    "            mah_df = pd.concat([mah_df, row], ignore_index=True)\n",
    "\n",
    "    if mah_df.shape[0] != dsdf[:20].shape[0]:\n",
    "        # print(\n",
    "        #     f\"Skipping redshift {z}: mismatched rows {mah_df.shape[0]} vs {dsdf.shape[0]}\")\n",
    "        continue\n",
    "\n",
    "    df = pd.concat([mah_df.reset_index(drop=True),\n",
    "                   dsdf[:20].reset_index(drop=True)], axis=1)\n",
    "    mah_ds_dict[z] = df\n",
    "    corrs = df.corr(method='spearman')\n",
    "    corrs_list.append(corrs)\n",
    "    z_list.append(z)\n",
    "    \n",
    "z_array = np.array(z_list)\n",
    "aexp = 1/(1+z_array)"
   ]
  },
  {
   "cell_type": "code",
   "execution_count": null,
   "metadata": {},
   "outputs": [],
   "source": [
    "eta_200 = [df.loc['eta_200[3]', 'M/M0'] for df in corrs_list]\n",
    "delta_200 = [df.loc['delta_200[4]', 'M/M0'] for df in corrs_list]\n",
    "fm_200 = [df.loc['fm_200[5]', 'M/M0'] for df in corrs_list]\n",
    "fm2_200 = [df.loc['fm2_200[6]', 'M/M0'] for df in corrs_list]\n",
    "eta_500 = [df.loc['eta_500[8]', 'M/M0'] for df in corrs_list]\n",
    "delta_500 = [df.loc['delta_500[9]', 'M/M0'] for df in corrs_list]\n",
    "fm_500 = [df.loc['fm_500[10]', 'M/M0'] for df in corrs_list]\n",
    "fm2_500 = [df.loc['fm2_500[11]', 'M/M0'] for df in corrs_list]"
   ]
  },
  {
   "cell_type": "code",
   "execution_count": null,
   "metadata": {},
   "outputs": [],
   "source": [
    "fig, axs = plt.subplots(nrows=1, ncols=1, figsize=(6, 6))\n",
    "axs.set_title('R200')\n",
    "axs.plot(aexp, eta_200, label='eta')\n",
    "axs.plot(aexp, delta_200, label='delta')\n",
    "axs.plot(aexp, fm_200, label='fm')\n",
    "axs.plot(aexp, fm2_200, label='fm2')\n",
    "axs.set_xlabel('Scale Factor a = 1/(1+z)')\n",
    "axs.set_ylabel(r'$\\rho_s (DS_{a=1}, M/M_0)$')\n",
    "axs.grid()\n",
    "plt.legend()\n",
    "plt.show()"
   ]
  },
  {
   "cell_type": "code",
   "execution_count": null,
   "metadata": {},
   "outputs": [],
   "source": [
    "fig, axs = plt.subplots(nrows=1, ncols=1, figsize=(6, 6))\n",
    "axs.set_title('R500')\n",
    "axs.plot(aexp, eta_500, label='eta')\n",
    "axs.plot(aexp, delta_500, label='delta')\n",
    "axs.plot(aexp, fm_500, label='fm')\n",
    "axs.plot(aexp, fm2_500, label='fm2')\n",
    "axs.set_xlabel('Scale Factor a = 1/(1+z)')\n",
    "axs.set_ylabel(r'$\\rho_s (DS_{a=1}, M/M_0)$')\n",
    "axs.grid()\n",
    "plt.legend()\n",
    "plt.show()"
   ]
  },
  {
   "cell_type": "code",
   "execution_count": null,
   "metadata": {},
   "outputs": [],
   "source": [
    "eta_200_p10 = datutils.get_perc(mah_ds_dict, param='eta_200[3]', q=10)\n",
    "eta_200_p25 = datutils.get_perc(mah_ds_dict, param='eta_200[3]', q=25)\n",
    "eta_200_p50 = datutils.get_perc(mah_ds_dict, param='eta_200[3]', q=50)\n",
    "eta_200_p75 = datutils.get_perc(mah_ds_dict, param='eta_200[3]', q=75)\n",
    "eta_200_p90 = datutils.get_perc(mah_ds_dict, param='eta_200[3]', q=90)"
   ]
  },
  {
   "cell_type": "code",
   "execution_count": null,
   "metadata": {},
   "outputs": [],
   "source": [
    "fig, axs = plt.subplots(nrows=1, ncols=1, figsize=(6, 6))\n",
    "axs.set_title('eta_200')\n",
    "axs.plot(aexp, eta_200_p50, color='b')\n",
    "axs.fill_between(aexp, eta_200_p10, eta_200_p90, color='b', alpha=0.2)\n",
    "axs.fill_between(aexp, eta_200_p25, eta_200_p75, color='b', alpha=0.3)\n",
    "axs.set_xlabel('Scale Factor a = 1/(1+z)')\n",
    "axs.set_ylabel(r'$\\rho_s (DS_{a=1}, M/M_0)$')\n",
    "axs.grid()\n",
    "plt.show()"
   ]
  },
  {
   "cell_type": "markdown",
   "metadata": {},
   "source": [
    "### Now for aexp(M/M0)..."
   ]
  },
  {
   "cell_type": "code",
   "execution_count": null,
   "metadata": {},
   "outputs": [],
   "source": [
    "size = 100  \n",
    "mm0 = np.linspace(1e-5, 1, size)      # set up mah array\n",
    "mm0_dict = {}\n",
    "for m in mm0:\n",
    "    # create dataframe for each mm0 value\n",
    "    mm0_dict[m] = pd.DataFrame(columns=['aexp'])"
   ]
  },
  {
   "cell_type": "code",
   "execution_count": null,
   "metadata": {},
   "outputs": [],
   "source": [
    "tol = 1e-2\n",
    "for mah in mah_df_list:\n",
    "    # For each row in each mah snap, if it is close to an mm0 value then go to \n",
    "    # dataframe at corresponding mm0_dict key and add the row(s) to that df.\n",
    "    # In the end, for each mm0 value there is a df of aexp values.\n",
    "    for m in mm0: \n",
    "        err = np.abs((mah['M/M0'] - m))\n",
    "        mask = err < tol\n",
    "        mm0_dict[m] = pd.concat([mm0_dict[m], mah['aexp'][mask]])"
   ]
  },
  {
   "cell_type": "code",
   "execution_count": null,
   "metadata": {},
   "outputs": [],
   "source": [
    "# now we assemble the dictionary of ds+aexp params\n",
    "# each key is an mm0 val, each val is the joint df \n",
    "ds_aexp_dict = {}\n",
    "for k, df in mm0_dict.items():\n",
    "   if len(df) > len(dsdf):\n",
    "      df1 = df.sample(len(dsdf))\n",
    "      df2 = dsdf\n",
    "   else:\n",
    "      df1 = df\n",
    "      df2 = dsdf.sample(len(dsdf))\n",
    "   ds_aexp_dict[k] = pd.concat([df2.reset_index(drop=True),\n",
    "                                df1.reset_index(drop=True)], axis=1)"
   ]
  },
  {
   "cell_type": "code",
   "execution_count": null,
   "metadata": {},
   "outputs": [],
   "source": [
    "ds_aexp_corrs = {}\n",
    "for k, v in ds_aexp_dict.items():\n",
    "    ds_aexp_corrs[k] = v.corr(method='spearman')"
   ]
  },
  {
   "cell_type": "code",
   "execution_count": null,
   "metadata": {},
   "outputs": [],
   "source": [
    "eta_200 = [df.loc['eta_200[3]', 'aexp'] for _, df in ds_aexp_corrs.items()]\n",
    "delta_200 = [df.loc['delta_200[4]', 'aexp'] for _, df in ds_aexp_corrs.items()]\n",
    "fm_200 = [df.loc['fm_200[5]', 'aexp'] for _, df in ds_aexp_corrs.items()]\n",
    "fm2_200 = [df.loc['fm2_200[6]', 'aexp'] for _, df in ds_aexp_corrs.items()]\n",
    "eta_500 = [df.loc['eta_500[8]', 'aexp'] for _, df in ds_aexp_corrs.items()]\n",
    "delta_500 = [df.loc['delta_500[9]', 'aexp'] for _, df in ds_aexp_corrs.items()]\n",
    "fm_500 = [df.loc['fm_500[10]', 'aexp'] for _, df in ds_aexp_corrs.items()]\n",
    "fm2_500 = [df.loc['fm2_500[11]', 'aexp'] for _, df in ds_aexp_corrs.items()]"
   ]
  },
  {
   "cell_type": "code",
   "execution_count": null,
   "metadata": {},
   "outputs": [],
   "source": [
    "fig, axs = plt.subplots(nrows=2, ncols=2, figsize=(16, 8))\n",
    "fig.suptitle('R200')\n",
    "\n",
    "axs[0, 0].plot(mm0, eta_200, label='eta')\n",
    "axs[0, 0].grid()\n",
    "axs[0, 0].legend()\n",
    "\n",
    "axs[0, 1].plot(mm0, delta_200, label='delta')\n",
    "axs[0, 1].grid()\n",
    "axs[0, 1].legend()\n",
    "\n",
    "axs[1, 0].plot(mm0, fm_200, label='fm')\n",
    "axs[1, 0].grid()\n",
    "axs[1, 0].legend()\n",
    "\n",
    "axs[1, 1].plot(mm0, fm2_200, label='fm2')\n",
    "axs[1, 1].grid()\n",
    "axs[1, 1].legend()\n",
    "\n",
    "axs[1, 0].set_xlabel('M/M0')\n",
    "axs[1, 1].set_xlabel('M/M0')\n",
    "axs[0, 0].set_ylabel(r'$\\rho_s (DS_{a=1},aexp)$')\n",
    "axs[1, 0].set_ylabel(r'$\\rho_s (DS_{a=1},aexp)$')\n",
    "\n",
    "plt.tight_layout()\n",
    "plt.legend()\n",
    "plt.show()"
   ]
  },
  {
   "cell_type": "markdown",
   "metadata": {},
   "source": [
    "## DS only"
   ]
  },
  {
   "cell_type": "code",
   "execution_count": null,
   "metadata": {},
   "outputs": [],
   "source": [
    "dsdf_list = []\n",
    "for file in sorted(os.listdir('data/gadgetx3k_20/G3X_progenitors/')):\n",
    "    ds_file = 'data/gadgetx3k_20/G3X_progenitors/' + file\n",
    "    ds_df = pd.read_csv(ds_file, sep=r'\\s+', index_col=False)\n",
    "    dsdf_list.append(ds_df)"
   ]
  },
  {
   "cell_type": "code",
   "execution_count": null,
   "metadata": {},
   "outputs": [],
   "source": [
    "ds_corr_list =[]\n",
    "for df in dsdf_list:\n",
    "    corr = df.corr(method='spearman')\n",
    "    ds_corr_list.append(corr)"
   ]
  },
  {
   "cell_type": "code",
   "execution_count": null,
   "metadata": {},
   "outputs": [],
   "source": [
    "redshift_list = pd.read_csv('data/gadgetx3k_20/redshift_list.txt', sep=r'\\s+')\n",
    "redshift_list[32:]  # DS files start at snap 32"
   ]
  },
  {
   "cell_type": "code",
   "execution_count": null,
   "metadata": {},
   "outputs": [],
   "source": [
    "eta_delta200 = [df.loc['delta_200[4]', 'eta_200[3]'] for df in ds_corr_list]\n",
    "eta_fm200 = [df.loc['fm_200[5]', 'eta_200[3]'] for df in ds_corr_list]\n",
    "eta_fm2200 = [df.loc['fm2_200[6]', 'eta_200[3]'] for df in ds_corr_list]\n",
    "\n",
    "eta_delta500 = [df.loc['delta_500[9]', 'eta_500[8]'] for df in ds_corr_list]\n",
    "eta_fm500 = [df.loc['fm_500[10]', 'eta_500[8]'] for df in ds_corr_list]\n",
    "eta_fm2500 = [df.loc['fm2_500[11]', 'eta_500[8]'] for df in ds_corr_list]\n",
    "\n",
    "delta_eta200 = [df.loc['eta_200[3]', 'delta_200[4]'] for df in ds_corr_list]\n",
    "delta_fm200 = [df.loc['fm_200[5]', 'delta_200[4]'] for df in ds_corr_list]\n",
    "delta_fm2200 = [df.loc['fm2_200[6]', 'delta_200[4]'] for df in ds_corr_list]\n",
    "\n",
    "delta_eta500 = [df.loc['eta_500[8]', 'delta_500[9]'] for df in ds_corr_list]\n",
    "delta_fm500 = [df.loc['fm_500[10]', 'delta_500[9]'] for df in ds_corr_list]\n",
    "delta_fm2500 = [df.loc['fm2_500[11]', 'delta_500[9]'] for df in ds_corr_list]\n",
    "\n",
    "fm_eta200 = [df.loc['eta_200[3]', 'fm_200[5]'] for df in ds_corr_list]\n",
    "fm_delta200 = [df.loc['delta_200[4]', 'fm_200[5]'] for df in ds_corr_list]\n",
    "fm_fm2200 = [df.loc['fm2_200[6]', 'fm_200[5]'] for df in ds_corr_list]\n",
    "\n",
    "fm_eta500 = [df.loc['eta_500[8]', 'fm_500[10]'] for df in ds_corr_list]\n",
    "fm_delta500 = [df.loc['delta_500[9]', 'fm_500[10]'] for df in ds_corr_list]\n",
    "fm_fm2500 = [df.loc['fm2_500[11]', 'fm_500[10]'] for df in ds_corr_list]"
   ]
  },
  {
   "cell_type": "code",
   "execution_count": null,
   "metadata": {},
   "outputs": [],
   "source": [
    "fig, axs = plt.subplots(nrows=3, ncols=2, figsize=(14, 20))\n",
    "\n",
    "axs[0][0].plot(redshift_list[32:]['a'], eta_fm200, label='fm')\n",
    "axs[0][0].plot(redshift_list[32:]['a'], eta_fm2200, label='fm2')\n",
    "axs[0][0].plot(redshift_list[32:]['a'], eta_delta200, label='delta')\n",
    "axs[0][0].set_ylabel(r'$\\rho_s (eta, X)_{200}$')\n",
    "axs[0][0].set_xlabel('aexp')\n",
    "axs[0][0].grid()\n",
    "axs[0][0].legend()\n",
    "\n",
    "axs[0][1].plot(redshift_list[32:]['a'], eta_fm500, label='fm')\n",
    "axs[0][1].plot(redshift_list[32:]['a'], eta_fm2500, label='fm2')\n",
    "axs[0][1].plot(redshift_list[32:]['a'], eta_delta500, label='delta')\n",
    "axs[0][1].set_ylabel(r'$\\rho_s (eta, X)_{500}$')\n",
    "axs[0][1].set_xlabel('aexp')\n",
    "axs[0][1].grid()\n",
    "axs[0][1].legend()\n",
    "\n",
    "axs[1][0].plot(redshift_list[32:]['a'], delta_eta200, label='eta')\n",
    "axs[1][0].plot(redshift_list[32:]['a'], delta_fm200, label='fm')\n",
    "axs[1][0].plot(redshift_list[32:]['a'], delta_fm2200, label='fm2')\n",
    "axs[1][0].set_ylabel(r'$\\rho_s (delta, X)_{200}$')\n",
    "axs[1][0].set_xlabel('aexp')\n",
    "axs[1][0].grid()\n",
    "axs[1][0].legend()\n",
    "\n",
    "axs[1][1].plot(redshift_list[32:]['a'], delta_eta500, label='eta')\n",
    "axs[1][1].plot(redshift_list[32:]['a'], delta_fm500, label='fm')\n",
    "axs[1][1].plot(redshift_list[32:]['a'], delta_fm2500, label='fm2')\n",
    "axs[1][1].set_ylabel(r'$\\rho_s (delta, X)_{500}$')\n",
    "axs[1][1].set_xlabel('aexp')\n",
    "axs[1][1].grid()\n",
    "axs[1][1].legend()\n",
    "\n",
    "axs[2][0].plot(redshift_list[32:]['a'], fm_eta200, label='eta')\n",
    "axs[2][0].plot(redshift_list[32:]['a'], fm_delta200, label='delta')\n",
    "axs[2][0].plot(redshift_list[32:]['a'], fm_fm2200, label='fm2')\n",
    "axs[2][0].set_ylabel(r'$\\rho_s (fm, X)_{200}$')\n",
    "axs[2][0].set_xlabel('aexp')\n",
    "axs[2][0].grid()\n",
    "axs[2][0].legend()\n",
    "\n",
    "axs[2][1].plot(redshift_list[32:]['a'], fm_eta500, label='eta')\n",
    "axs[2][1].plot(redshift_list[32:]['a'], fm_delta500, label='delta')\n",
    "axs[2][1].plot(redshift_list[32:]['a'], fm_fm2500, label='fm2')\n",
    "axs[2][1].set_ylabel(r'$\\rho_s (eta, X)_{500}$')\n",
    "axs[2][1].set_xlabel('aexp')\n",
    "axs[2][1].grid()\n",
    "axs[2][1].legend()\n",
    "\n",
    "plt.legend()\n",
    "plt.show()"
   ]
  },
  {
   "cell_type": "markdown",
   "metadata": {},
   "source": [
    "## Heatmaps of DS(a=1) on Roan and Elena's files"
   ]
  },
  {
   "cell_type": "code",
   "execution_count": null,
   "metadata": {},
   "outputs": [],
   "source": [
    "rds_today = 'data/gadgetx3k_20/G3X_progenitors/DS_G3X_snap_128_center-cluster_progenitors.txt'\n",
    "rds_today = pd.read_csv(rds_today, sep=r'\\s+')\n",
    "rds_today.drop(labels=['rID[0]', 'Hid[1]', 'DS_200[2]', 'DS_500[7]'], \n",
    "               axis=1, inplace=True)\n",
    "rds_today = rds_today[:20]\n",
    "\n",
    "eds_today = 'data/gadgetx3k_20/snap_125.dyn'\n",
    "eds_today = pd.read_csv(eds_today, sep=r'\\s+', header=1)\n",
    "eds_today.drop(labels=['region'], inplace=True, axis=1)"
   ]
  },
  {
   "cell_type": "code",
   "execution_count": null,
   "metadata": {},
   "outputs": [],
   "source": [
    "display(rds_today)\n",
    "display(eds_today)"
   ]
  },
  {
   "cell_type": "code",
   "execution_count": null,
   "metadata": {},
   "outputs": [],
   "source": [
    "rds_corr = rds_today.corr(method='spearman')\n",
    "plots.plot_corr_matrix(rds_corr)"
   ]
  },
  {
   "cell_type": "code",
   "execution_count": null,
   "metadata": {},
   "outputs": [],
   "source": [
    "eds_corr = eds_today.corr(method='spearman')\n",
    "plots.plot_corr_matrix(eds_corr)"
   ]
  },
  {
   "cell_type": "markdown",
   "metadata": {},
   "source": [
    "## SM + MAH"
   ]
  },
  {
   "cell_type": "code",
   "execution_count": null,
   "metadata": {},
   "outputs": [],
   "source": [
    "sm_df = pd.read_csv('results/rin_50kpc_rout_1Mpc.csv')\n",
    "sm_df.columns"
   ]
  },
  {
   "cell_type": "code",
   "execution_count": null,
   "metadata": {},
   "outputs": [],
   "source": [
    "sm_df.drop(columns=['Unnamed: 0', 'sky_mean', 'sky_median',\n",
    "           'sky_sigma', 'flag', 'flag_sersic', 'flux_circ', 'flux_ellip', \n",
    "            'runtime', 'sn_per_pixel'], inplace=True)\n",
    "sm_df.columns"
   ]
  },
  {
   "cell_type": "code",
   "execution_count": null,
   "metadata": {},
   "outputs": [],
   "source": [
    "mah_df_list = []\n",
    "for file in os.listdir('data/gadgetx3k_20/AHF_History/'):\n",
    "    if '.dat' not in file:\n",
    "        continue\n",
    "    elif file == 'NewMDCLUSTER_0013_halo_128000000000001.dat':\n",
    "            continue\n",
    "    elif file == 'NewMDCLUSTER_0014_halo_128000000000001.dat':\n",
    "            continue\n",
    "    mah_file = 'data/gadgetx3k_20/AHF_History/' + file\n",
    "    mah_df = pd.read_csv(mah_file, sep=r'\\s+', index_col=False)\n",
    "    mm0 = mah_df['Mvir(4)'].values/mah_df['Mvir(4)'][0]\n",
    "    mm0 = pd.DataFrame(mm0)\n",
    "    mm0.rename(columns={0: 'M/M0'}, inplace=True)\n",
    "    mm0['Redshift'] = mah_df['Redshift(0)']\n",
    "    mah_df_list.append(mm0)"
   ]
  },
  {
   "cell_type": "code",
   "execution_count": null,
   "metadata": {},
   "outputs": [],
   "source": [
    "corrs_list = []\n",
    "z_list = []\n",
    "for z in mah_df_list[0]['Redshift']:\n",
    "    if z <  0.06872:    #SM measurements done at snap 125\n",
    "        continue\n",
    "    mah_df = pd.DataFrame(columns=['M/M0'])\n",
    "\n",
    "    for region in range(18):\n",
    "        row = mah_df_list[region].loc[mah_df_list[region]\n",
    "                                      ['Redshift'] == z, ['M/M0']]\n",
    "        if not row.empty:\n",
    "            mah_df = pd.concat([mah_df, row], ignore_index=True)\n",
    "\n",
    "    if mah_df.shape[0] != sm_df.shape[0]:\n",
    "        print(\n",
    "            f\"Skipping redshift {z}: mismatched rows {mah_df.shape[0]} vs {sm_df.shape[0]}\")\n",
    "        continue\n",
    "\n",
    "    df = pd.concat([mah_df.reset_index(drop=True),\n",
    "                   sm_df.reset_index(drop=True)], axis=1)\n",
    "    corrs = df.corr(method='spearman')\n",
    "    corrs_list.append(corrs)\n",
    "    z_list.append(z)\n",
    "z_array = np.array(z_list)"
   ]
  },
  {
   "cell_type": "code",
   "execution_count": null,
   "metadata": {},
   "outputs": [],
   "source": [
    "aexp = 1/(1+z_array)\n",
    "sersic_n = [df.loc['sersic_n', 'M/M0'] for df in corrs_list]\n",
    "rhalf_ellip = [df.loc['rhalf_ellip', 'M/M0'] for df in corrs_list]\n",
    "gini = [df.loc['Gini', 'M/M0'] for df in corrs_list]\n",
    "rpetro_ellip = [df.loc['rpetro_ellip', 'M/M0'] for df in corrs_list]\n",
    "orientation_asymmetry = [\n",
    "    df.loc['orientation_asymmetry', 'M/M0'] for df in corrs_list]\n",
    "rpetro_circ = [df.loc['rpetro_circ', 'M/M0'] for df in corrs_list]\n",
    "rhalf_circ = [df.loc['rhalf_circ', 'M/M0'] for df in corrs_list]\n",
    "m20 = [df.loc['M20', 'M/M0'] for df in corrs_list]              # stronger corr\n",
    "fgm20 = [df.loc['F(G, M20)', 'M/M0'] for df in corrs_list]\n",
    "sgm20 = [df.loc['S(G, M20)', 'M/M0'] for df in corrs_list]\n",
    "conc = [df.loc['C', 'M/M0'] for df in corrs_list]\n",
    "asym = [df.loc['A', 'M/M0'] for df in corrs_list]\n",
    "smooth = [df.loc['S', 'M/M0'] for df in corrs_list]"
   ]
  },
  {
   "cell_type": "code",
   "execution_count": null,
   "metadata": {},
   "outputs": [],
   "source": [
    "fig, axs = plt.subplots(nrows=1, ncols=1, figsize=(6, 6))\n",
    "axs.set_title('Statmorph Correlations')\n",
    "axs.plot(aexp, sersic_n, label='sersic_n')\n",
    "axs.plot(aexp, rhalf_ellip, label='r1/2')\n",
    "axs.plot(aexp, gini, label='gini')\n",
    "axs.set_xlabel('Scale Factor a = 1/(1+z)')\n",
    "axs.set_ylabel(r'$\\rho_s (SM_{a=0.94}, M/M_0)$')\n",
    "axs.grid()\n",
    "plt.legend()\n",
    "plt.show()"
   ]
  },
  {
   "cell_type": "markdown",
   "metadata": {},
   "source": [
    "## SM + DS"
   ]
  },
  {
   "cell_type": "code",
   "execution_count": null,
   "metadata": {},
   "outputs": [],
   "source": [
    "# using new ICs\n",
    "ds_df = pd.read_csv('data/gadgetx3k_20/snap_125_18.dyn', header=1, sep=r'\\s+')\n",
    "ds_df.drop(columns=['region'], inplace=True)\n",
    "display(ds_df)\n",
    "display(sm_df)"
   ]
  },
  {
   "cell_type": "code",
   "execution_count": null,
   "metadata": {},
   "outputs": [],
   "source": [
    "df = pd.concat([ds_df, sm_df], axis=1)\n",
    "df"
   ]
  },
  {
   "cell_type": "code",
   "execution_count": null,
   "metadata": {},
   "outputs": [],
   "source": [
    "corrs = df.corr(method='spearman')\n",
    "plots.plot_corr_matrix(corrs)"
   ]
  },
  {
   "cell_type": "code",
   "execution_count": null,
   "metadata": {},
   "outputs": [],
   "source": [
    "# using old ICs\n",
    "\n",
    "rds_today = 'data/gadgetx3k_20/G3X_progenitors/DS_G3X_snap_125_center-cluster_progenitors.txt'\n",
    "rds_today = pd.read_csv(rds_today, sep=r'\\s+')\n",
    "rds_today.drop(columns=['rID[0]', 'Hid[1]', 'DS_200[2]', 'DS_500[7]'], \n",
    "               inplace=True)\n",
    "rds_today = rds_today[:20]\n"
   ]
  },
  {
   "cell_type": "code",
   "execution_count": null,
   "metadata": {},
   "outputs": [],
   "source": [
    "ds_df = rds_today.drop(labels=[14, 15], axis=0)\n",
    "df = pd.concat([ds_df, sm_df], axis=1)\n",
    "corrs = df.corr(method='spearman')\n",
    "plots.plot_corr_matrix(corrs)"
   ]
  },
  {
   "cell_type": "markdown",
   "metadata": {},
   "source": [
    "Now doing same as above but with annular mask..."
   ]
  },
  {
   "cell_type": "code",
   "execution_count": null,
   "metadata": {},
   "outputs": [],
   "source": [
    "image = fits.open('data/gadgetx3k_20/maps/bcg_0001_125_0.fits')\n",
    "image = image[0].data\n",
    "center = (int(len(image[1])//2), int(len(image[0])//2))\n",
    "segmap = imutils.annular_mask(image, center, r1=20, r2=1024)"
   ]
  },
  {
   "cell_type": "code",
   "execution_count": null,
   "metadata": {},
   "outputs": [],
   "source": [
    "fig, axs = plt.subplots(1, 1)\n",
    "plots.display_img(image, axs, mask=segmap)\n",
    "plt.show()"
   ]
  },
  {
   "cell_type": "code",
   "execution_count": null,
   "metadata": {},
   "outputs": [],
   "source": [
    "import astropy.units as u"
   ]
  },
  {
   "cell_type": "code",
   "execution_count": null,
   "metadata": {},
   "outputs": [],
   "source": [
    "diameter = 5*u.Mpc\n",
    "diameter.to(u.kpc).value + 50"
   ]
  },
  {
   "cell_type": "code",
   "execution_count": null,
   "metadata": {},
   "outputs": [],
   "source": [
    "def real2pix(r, map=None, scale=5*u.Mpc):\n",
    "    scale = scale.to(u.kpc)\n",
    "    pixperkpc = 2048/scale.value\n",
    "    radius = r.value*pixperkpc\n",
    "    return int(radius)"
   ]
  },
  {
   "cell_type": "code",
   "execution_count": null,
   "metadata": {},
   "outputs": [],
   "source": [
    "real2pix(1000*u.kpc)"
   ]
  },
  {
   "cell_type": "code",
   "execution_count": null,
   "metadata": {},
   "outputs": [],
   "source": [
    "morphs_list = []\n",
    "for id in np.arange(1, 21):\n",
    "    try:\n",
    "        file = fits.open(f'data/gadgetx3k_20/maps/bcg_{str(id).zfill(4)}_125_1.fits')\n",
    "    except FileNotFoundError:\n",
    "        continue\n",
    "    print(f\"Processing region {id}...\")\n",
    "    image = file[0].data\n",
    "    center = (int(len(image[1])//2), int(len(image[0])//2))\n",
    "    # r1 = 50*u.kpc\n",
    "    # r1 = real2pix(r=r1, map=image)\n",
    "    # r2 = 1*u.Mpc\n",
    "    # r2 = real2pix(r=r2, map=image)\n",
    "    segmap = imutils.annular_mask(image, center, r1=20, r2=409)\n",
    "\n",
    "    fig, axs = plt.subplots(1, 1)\n",
    "    plots.display_img(image, axs, mask=segmap)\n",
    "    plt.show()\n",
    "    morph = statmorph.source_morphology(image, segmap, gain=2.25)\n",
    "    print(f'-------region {id} done-------')\n",
    "    morphs_list.append(morph[0])\n",
    "\n",
    "sm_df = datutils.create_morph_df(morphs_list, \n",
    "                                   name='results/rin_50kpc_rout_1Mpc.csv',\n",
    "                                   save=True)"
   ]
  },
  {
   "cell_type": "code",
   "execution_count": null,
   "metadata": {},
   "outputs": [],
   "source": []
  }
 ],
 "metadata": {
  "kernelspec": {
   "display_name": "cluster_morph",
   "language": "python",
   "name": "python3"
  },
  "language_info": {
   "codemirror_mode": {
    "name": "ipython",
    "version": 3
   },
   "file_extension": ".py",
   "mimetype": "text/x-python",
   "name": "python",
   "nbconvert_exporter": "python",
   "pygments_lexer": "ipython3",
   "version": "3.13.0"
  }
 },
 "nbformat": 4,
 "nbformat_minor": 2
}
