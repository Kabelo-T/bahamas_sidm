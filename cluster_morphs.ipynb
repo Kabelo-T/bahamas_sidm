{
 "cells": [
  {
   "cell_type": "code",
   "execution_count": null,
   "metadata": {},
   "outputs": [],
   "source": [
    "import os\n",
    "\n",
    "import numpy as np\n",
    "import pandas as pd\n",
    "import matplotlib.pyplot as plt\n",
    "from matplotlib.patches import Circle\n",
    "from matplotlib.colors import LogNorm\n",
    "from astropy.io import fits\n",
    "import astropy.units as u\n",
    "import importlib\n",
    "\n",
    "import statmorph\n",
    "from statmorph.utils.image_diagnostics import make_figure\n",
    "\n",
    "import utils.data as datutils\n",
    "import utils.plots as plots\n",
    "import utils.image as imutils\n",
    "%matplotlib inline"
   ]
  },
  {
   "cell_type": "code",
   "execution_count": null,
   "metadata": {},
   "outputs": [],
   "source": [
    "import warnings\n",
    "from pandas.errors import ParserWarning\n",
    "\n",
    "warnings.simplefilter(action='ignore', category=ParserWarning)\n",
    "warnings.simplefilter(action='ignore', category=FutureWarning)"
   ]
  },
  {
   "cell_type": "code",
   "execution_count": null,
   "metadata": {},
   "outputs": [],
   "source": [
    "plt.rcParams['xtick.labelsize'] = 13\n",
    "plt.rcParams['ytick.labelsize'] = 13\n",
    "plt.rcParams['axes.labelsize'] = 13\n",
    "plt.rcParams[\"mathtext.fontset\"] = \"cm\"\n",
    "plt.rcParams[\"font.family\"] = \"serif\""
   ]
  },
  {
   "cell_type": "markdown",
   "metadata": {},
   "source": [
    "# Measure morphologies"
   ]
  },
  {
   "cell_type": "code",
   "execution_count": null,
   "metadata": {},
   "outputs": [],
   "source": [
    "def morph_c():\n",
    "    morphs_list = []\n",
    "    for id in np.arange(1, 21):\n",
    "        try:\n",
    "            file = fits.open(\n",
    "                f'data/gadgetx3k_20/maps/bcg_{str(id).zfill(4)}_125_1.fits')\n",
    "        except FileNotFoundError:\n",
    "            continue\n",
    "        print(f\"Processing region {id}...\")\n",
    "        image = file[0].data\n",
    "        center = (int(len(image[1])//2), int(len(image[0])//2))\n",
    "        # r1 = 50*u.kpc\n",
    "        # r1 = real2pix(r=r1, map=image)\n",
    "        # r2 = 1*u.Mpc\n",
    "        # r2 = real2pix(r=r2, map=image)\n",
    "        segmap = imutils.annular_mask(image, center, r1=20, r2=409)\n",
    "\n",
    "        fig, axs = plt.subplots(1, 1)\n",
    "        plots.display_img(image, axs, mask=segmap)\n",
    "        plt.show()\n",
    "        morph = statmorph.source_morphology(image, segmap, gain=2.25)\n",
    "        print(f'-------region {id} done-------')\n",
    "        morphs_list.append(morph[0])\n",
    "\n",
    "    sm_df = datutils.create_morph_df(morphs_list,\n",
    "                                    name='results/rin_50kpc_rout_1Mpc.csv',\n",
    "                                    save=False)\n",
    "    \n",
    "    return"
   ]
  },
  {
   "cell_type": "code",
   "execution_count": null,
   "metadata": {},
   "outputs": [],
   "source": [
    "def morph_a():\n",
    "    map_dir = 'data/gadgetx3k_20/maps/'\n",
    "    morphs_list = []\n",
    "    radius = 409  # 1Mpc\n",
    "    for file in os.listdir(map_dir):\n",
    "        if '.fits' in file:\n",
    "            map_file = map_dir + file\n",
    "\n",
    "            try:\n",
    "                map = fits.open(map_file)\n",
    "            except FileNotFoundError:\n",
    "                continue\n",
    "\n",
    "            map = fits.open(map_file)\n",
    "            print(map_file)\n",
    "            map = map[0].data\n",
    "            center = (int(len(map[1])//2), int(len(map[0])//2))\n",
    "            segmap = imutils.circular_segmap(map, center, radius=radius)\n",
    "            morph = statmorph.source_morphology(map, segmap, gain=2.25)\n",
    "            morphs_list.append(morph[0])\n",
    "\n",
    "            if len(morphs_list) % 10 == 0:\n",
    "                sm_df = datutils.create_morph_df(morphs_list,\n",
    "                                                name=f'results/los_{len(morphs_list)}.csv',\n",
    "                                                save=True)\n",
    "                \n",
    "    return"
   ]
  },
  {
   "cell_type": "markdown",
   "metadata": {},
   "source": [
    "# Correlations"
   ]
  },
  {
   "cell_type": "markdown",
   "metadata": {},
   "source": [
    "## SM + MAH"
   ]
  },
  {
   "cell_type": "code",
   "execution_count": null,
   "metadata": {},
   "outputs": [],
   "source": [
    "sm_df = pd.read_csv('results/los_all.csv')\n",
    "sm_df.columns"
   ]
  },
  {
   "cell_type": "code",
   "execution_count": null,
   "metadata": {},
   "outputs": [],
   "source": [
    "sm_df.drop(columns=['Unnamed: 0', 'sky_mean', 'sky_median',\n",
    "           'sky_sigma', 'flag', 'flag_sersic', 'flux_circ', 'flux_ellip', \n",
    "            'runtime', 'sn_per_pixel'], inplace=True)\n",
    "sm_df.columns"
   ]
  },
  {
   "cell_type": "code",
   "execution_count": null,
   "metadata": {},
   "outputs": [],
   "source": [
    "mah_df_list = []\n",
    "for file in os.listdir('data/gadgetx3k_20/AHF_History/'):\n",
    "    if '.dat' not in file:\n",
    "        continue\n",
    "    elif file == 'NewMDCLUSTER_0013_halo_128000000000001.dat':\n",
    "            continue\n",
    "    elif file == 'NewMDCLUSTER_0014_halo_128000000000001.dat':\n",
    "            continue\n",
    "    mah_file = 'data/gadgetx3k_20/AHF_History/' + file\n",
    "    mah_df = pd.read_csv(mah_file, sep=r'\\s+', index_col=False)\n",
    "    mm0 = mah_df['Mvir(4)'].values/mah_df['Mvir(4)'][0]\n",
    "    mm0 = pd.DataFrame(mm0)\n",
    "    mm0.rename(columns={0: 'M/M0'}, inplace=True)\n",
    "    mm0['Redshift'] = mah_df['Redshift(0)']\n",
    "    mah_df_list.append(mm0)"
   ]
  },
  {
   "cell_type": "code",
   "execution_count": null,
   "metadata": {},
   "outputs": [],
   "source": [
    "corrs_list = []\n",
    "z_list = []\n",
    "for z in mah_df_list[0]['Redshift']:\n",
    "    if z <  0.06872:    #SM measurements done at snap 125\n",
    "        continue\n",
    "    mah_df = pd.DataFrame(columns=['M/M0'])\n",
    "\n",
    "    for region in range(18):\n",
    "        row = mah_df_list[region].loc[mah_df_list[region]\n",
    "                                      ['Redshift'] == z, ['M/M0']]\n",
    "        if not row.empty:\n",
    "            mah_df = pd.concat([mah_df, row], ignore_index=True)\n",
    "\n",
    "    if mah_df.shape[0] != sm_df.shape[0]:\n",
    "        # print(\n",
    "        #     f\"Skipping redshift {z}: mismatched rows {mah_df.shape[0]} vs {sm_df.shape[0]}\")\n",
    "        continue\n",
    "\n",
    "    df = pd.concat([mah_df.reset_index(drop=True),\n",
    "                   sm_df.reset_index(drop=True)], axis=1)\n",
    "    corrs = df.corr(method='spearman')\n",
    "    corrs_list.append(corrs)\n",
    "    z_list.append(z)\n",
    "z_array = np.array(z_list)"
   ]
  },
  {
   "cell_type": "code",
   "execution_count": null,
   "metadata": {},
   "outputs": [],
   "source": [
    "aexp = 1/(1+z_array)\n",
    "sersic_n = [df.loc['sersic_n', 'M/M0'] for df in corrs_list]\n",
    "rhalf_ellip = [df.loc['rhalf_ellip', 'M/M0'] for df in corrs_list]\n",
    "gini = [df.loc['Gini', 'M/M0'] for df in corrs_list]\n",
    "rpetro_ellip = [df.loc['rpetro_ellip', 'M/M0'] for df in corrs_list]\n",
    "orientation_asymmetry = [\n",
    "    df.loc['orientation_asymmetry', 'M/M0'] for df in corrs_list]\n",
    "rpetro_circ = [df.loc['rpetro_circ', 'M/M0'] for df in corrs_list]\n",
    "rhalf_circ = [df.loc['rhalf_circ', 'M/M0'] for df in corrs_list]\n",
    "m20 = [df.loc['M20', 'M/M0'] for df in corrs_list]              # stronger corr\n",
    "fgm20 = [df.loc['F(G, M20)', 'M/M0'] for df in corrs_list]\n",
    "sgm20 = [df.loc['S(G, M20)', 'M/M0'] for df in corrs_list]\n",
    "conc = [df.loc['C', 'M/M0'] for df in corrs_list]\n",
    "asym = [df.loc['A', 'M/M0'] for df in corrs_list]\n",
    "smooth = [df.loc['S', 'M/M0'] for df in corrs_list]"
   ]
  },
  {
   "cell_type": "code",
   "execution_count": null,
   "metadata": {},
   "outputs": [],
   "source": [
    "fig, axs = plt.subplots(nrows=1, ncols=1, figsize=(6, 6))\n",
    "axs.set_title('Statmorph Correlations')\n",
    "axs.plot(aexp, sersic_n, label='sersic_n')\n",
    "axs.plot(aexp, rhalf_ellip, label='r1/2')\n",
    "axs.plot(aexp, gini, label='gini')\n",
    "axs.set_xlabel('Scale Factor a = 1/(1+z)')\n",
    "axs.set_ylabel(r'$\\rho_s (SM_{a=0.94}, M/M_0)$')\n",
    "axs.grid()\n",
    "plt.legend()\n",
    "plt.show()"
   ]
  },
  {
   "cell_type": "markdown",
   "metadata": {},
   "source": [
    "## SM + DS"
   ]
  },
  {
   "cell_type": "code",
   "execution_count": null,
   "metadata": {},
   "outputs": [],
   "source": [
    "# using new ICs\n",
    "ds_df = pd.read_csv('data/gadgetx3k_20/snap_125_18.dyn', header=1, sep=r'\\s+')\n",
    "ds_df.drop(columns=['region'], inplace=True)\n",
    "display(ds_df)\n",
    "display(sm_df)"
   ]
  },
  {
   "cell_type": "code",
   "execution_count": null,
   "metadata": {},
   "outputs": [],
   "source": [
    "df = pd.concat([ds_df, sm_df], axis=1)\n",
    "df"
   ]
  },
  {
   "cell_type": "code",
   "execution_count": null,
   "metadata": {},
   "outputs": [],
   "source": [
    "corrs = df.corr(method='spearman')\n",
    "plots.plot_corr_matrix(corrs)"
   ]
  },
  {
   "cell_type": "code",
   "execution_count": null,
   "metadata": {},
   "outputs": [],
   "source": [
    "# using old ICs\n",
    "\n",
    "rds_today = 'data/gadgetx3k_20/G3X_progenitors/DS_G3X_snap_125_center-cluster_progenitors.txt'\n",
    "rds_today = pd.read_csv(rds_today, sep=r'\\s+')\n",
    "rds_today.drop(columns=['rID[0]', 'Hid[1]', 'DS_200[2]', 'DS_500[7]'], \n",
    "               inplace=True)\n",
    "rds_today = rds_today.sample(len(sm_df))\n"
   ]
  },
  {
   "cell_type": "code",
   "execution_count": null,
   "metadata": {},
   "outputs": [],
   "source": [
    "# ds_df = rds_today.drop(labels=[14, 15], axis=0)\n",
    "df = pd.concat([rds_today, sm_df], axis=1)\n",
    "corrs = df.corr(method='spearman')\n",
    "plots.plot_corr_matrix(corrs)"
   ]
  }
 ],
 "metadata": {
  "kernelspec": {
   "display_name": "cluster_morph",
   "language": "python",
   "name": "python3"
  },
  "language_info": {
   "codemirror_mode": {
    "name": "ipython",
    "version": 3
   },
   "file_extension": ".py",
   "mimetype": "text/x-python",
   "name": "python",
   "nbconvert_exporter": "python",
   "pygments_lexer": "ipython3",
   "version": "3.13.0"
  }
 },
 "nbformat": 4,
 "nbformat_minor": 2
}
