{
 "cells": [
  {
   "cell_type": "code",
   "execution_count": null,
   "metadata": {},
   "outputs": [],
   "source": [
    "import os\n",
    "\n",
    "import numpy as np\n",
    "import pandas as pd\n",
    "import matplotlib.pyplot as plt\n",
    "from matplotlib.patches import Circle\n",
    "from astropy.io import fits\n",
    "import importlib\n",
    "\n",
    "import statmorph\n",
    "from statmorph.utils.image_diagnostics import make_figure\n",
    "import utils.data\n",
    "import utils.plots as plots\n",
    "%matplotlib inline"
   ]
  },
  {
   "cell_type": "code",
   "execution_count": null,
   "metadata": {},
   "outputs": [],
   "source": [
    "drz_file = 'cluster_data/abell2537/hlsp_relics_hst_wfc3ir-60mas_abell2537_f160w_v1_drz.fits'\n",
    "cat_file = 'cluster_data/abell2537/hlsp_relics_hst_acs-wfc3ir_abell2537_multi_v1_cat.txt'\n",
    "catalog = pd.read_csv(cat_file, comment='#', sep='\\s+', index_col='id')\n",
    "hdulist = fits.open(drz_file)\n",
    "drz = hdulist[0].data"
   ]
  },
  {
   "cell_type": "code",
   "execution_count": null,
   "metadata": {},
   "outputs": [],
   "source": [
    "catalog.head()"
   ]
  },
  {
   "cell_type": "code",
   "execution_count": null,
   "metadata": {},
   "outputs": [],
   "source": [
    "galaxies = catalog[catalog['stel'] < 0.05 ]\n",
    "galaxies.head()"
   ]
  },
  {
   "cell_type": "code",
   "execution_count": null,
   "metadata": {},
   "outputs": [],
   "source": [
    "z_cluster = 0.2966\n",
    "cluster_gals = galaxies[np.abs(galaxies['zb'] - z_cluster) < 0.15]\n",
    "w = drz.shape[1]\n",
    "h = drz.shape[0]\n",
    "center = (int(w/2), int(h/2))\n",
    "bcg = cluster_gals.loc[cluster_gals['area'].idxmax()]"
   ]
  },
  {
   "cell_type": "code",
   "execution_count": null,
   "metadata": {},
   "outputs": [],
   "source": [
    "x = cluster_gals['x']\n",
    "y = cluster_gals['y']\n",
    "fig, axs = plt.subplots(figsize=(8,8))\n",
    "plots.display_img(image=drz, axs=axs)\n",
    "axs.scatter(center[0], center[1], marker='x', color='r')\n",
    "axs.scatter(bcg['x'], bcg['y'], marker='o', color='r')\n",
    "plt.show()"
   ]
  },
  {
   "cell_type": "code",
   "execution_count": null,
   "metadata": {},
   "outputs": [],
   "source": [
    "cropped_image = utils.data.crop(drz, radius=1350)\n",
    "fig, axs = plt.subplots(figsize=(8, 8))\n",
    "plots.display_img(image=cropped_image, axs=axs)\n",
    "plt.show()"
   ]
  },
  {
   "cell_type": "code",
   "execution_count": null,
   "metadata": {},
   "outputs": [],
   "source": [
    "# full_segmap = segmentation_map(drz, nsigma=10.)\n",
    "full_segmap = fits.open('cluster_data/abell1300/hlsp_relics_hst_acs-wfc3ir_abell1300_multi_v1_segm.fits')\n",
    "full_segmap = full_segmap[0].data"
   ]
  },
  {
   "cell_type": "code",
   "execution_count": null,
   "metadata": {},
   "outputs": [],
   "source": [
    "full_source_morphs = statmorph.source_morphology(image=drz,\n",
    "                                                 segmap=full_segmap,\n",
    "                                                 gain=2.25)"
   ]
  },
  {
   "cell_type": "code",
   "execution_count": null,
   "metadata": {},
   "outputs": [],
   "source": [
    "def func(src):\n",
    "    return src.r50      # sort on half-light radius to get BCG\n",
    "\n",
    "full_source_morphs.sort(reverse=True, key=func)\n",
    "bcg = full_source_morphs[1]\n",
    "full_morph_df = create_morph_df(full_source_morphs)"
   ]
  },
  {
   "cell_type": "code",
   "execution_count": null,
   "metadata": {},
   "outputs": [],
   "source": [
    "make_figure(bcg)"
   ]
  },
  {
   "cell_type": "code",
   "execution_count": null,
   "metadata": {},
   "outputs": [],
   "source": [
    "zoomed_region, zoom_size = zoom_in(bcg, drz)\n",
    "plot_light(bcg, zoomed_region, zoom_size)"
   ]
  },
  {
   "cell_type": "code",
   "execution_count": null,
   "metadata": {},
   "outputs": [],
   "source": [
    "def zoom_in(object, radius, image):\n",
    "    \"\"\"\n",
    "    Square image crop using statmorph source object properties.\n",
    "    \"\"\"\n",
    "    zoom_size = 6 * radius\n",
    "    x_min = int(object['x'] - zoom_size)\n",
    "    x_max = int(object['x'] + zoom_size)\n",
    "    y_min = int(object['y'] - zoom_size)\n",
    "    y_max = int(object['y'] + zoom_size)\n",
    "\n",
    "    # Extract the zoomed region\n",
    "    zoomed_region = image[y_min:y_max, x_min:x_max]\n",
    "    return zoomed_region, zoom_size"
   ]
  },
  {
   "cell_type": "code",
   "execution_count": null,
   "metadata": {},
   "outputs": [],
   "source": [
    "radius = np.sqrt(bcg['area']/np.pi)\n",
    "zoomed_region, zoom_size = zoom_in(bcg, radius, drz)"
   ]
  },
  {
   "cell_type": "code",
   "execution_count": null,
   "metadata": {},
   "outputs": [],
   "source": [
    "fig, ax = plt.subplots()\n",
    "ax.imshow(zoomed_region, cmap='gray', origin='lower', vmin=0, vmax=0.05)\n",
    "for scale in np.linspace(1, 5, num=10):\n",
    "    circle = Circle((zoom_size, zoom_size), radius*scale,\n",
    "                            color='red', fill=False, linewidth=1.5)\n",
    "\n",
    "    ax.add_patch(circle)\n",
    "    \n",
    "ax.set_xlabel('X')\n",
    "ax.set_ylabel('Y')\n",
    "ax.legend()\n",
    "plt.show()"
   ]
  },
  {
   "cell_type": "code",
   "execution_count": null,
   "metadata": {},
   "outputs": [],
   "source": [
    "center = (bcg['x'], bcg['y'])\n",
    "radius = np.sqrt(bcg['area']/np.pi)\n",
    "rads = radius*np.linspace(1, 3, num=5)\n",
    "morphs_list = []\n",
    "for radius in rads:\n",
    "    mask = utils.data.circular_mask(drz, center, radius)\n",
    "    # display_img(image=drz, mask=mask)\n",
    "    sm_mask = mask.astype(int)\n",
    "    morph = statmorph.source_morphology(drz,\n",
    "                                     segmap=sm_mask,\n",
    "                                     gain=2.25)\n",
    "    morphs_list.append(morph[0])"
   ]
  },
  {
   "cell_type": "code",
   "execution_count": null,
   "metadata": {},
   "outputs": [],
   "source": [
    "morphs_list"
   ]
  },
  {
   "cell_type": "code",
   "execution_count": null,
   "metadata": {},
   "outputs": [],
   "source": [
    "def create_df(source_morphs, name=None, save=False):\n",
    "\n",
    "    sources = []\n",
    "    for src in source_morphs:\n",
    "        sources.append({\n",
    "            'xc_centroid': src.xc_centroid,\n",
    "            'yc_centroid': src.yc_centroid,\n",
    "            'ellipticity_centroid': src.ellipticity_centroid,\n",
    "            'elongation_centroid': src.elongation_centroid,\n",
    "            'orientation_centroid': src.orientation_centroid,\n",
    "            'xc_asymmetry': src.xc_asymmetry,\n",
    "            'yc_asymmetry': src.yc_asymmetry,\n",
    "            'ellipticity_asymmetry': src.ellipticity_asymmetry,\n",
    "            'elongation_asymmetry': src.elongation_asymmetry,\n",
    "            'orientation_asymmetry': src.orientation_asymmetry,\n",
    "            'rpetro_circ': src.rpetro_circ,\n",
    "            'rpetro_ellip': src.rpetro_ellip,\n",
    "            'rhalf_circ': src.rhalf_circ,\n",
    "            'rhalf_ellip': src.rhalf_ellip,\n",
    "            'r20': src.r20,\n",
    "            'r50': src.r50,\n",
    "            'r80': src.r80,\n",
    "            'Gini': src.gini,\n",
    "            'M20': src.m20,\n",
    "            'F(G, M20)': src.gini_m20_bulge,\n",
    "            'S(G, M20)': src.gini_m20_merger,\n",
    "            'sn_per_pixel': src.sn_per_pixel,\n",
    "            'C': src.concentration,\n",
    "            'A': src.asymmetry,\n",
    "            'S': src.smoothness,\n",
    "            'sersic_amplitude': src.sersic_amplitude,\n",
    "            'sersic_rhalf': src.sersic_rhalf,\n",
    "            'sersic_n': src.sersic_n,\n",
    "            'sersic_xc': src.sersic_xc,\n",
    "            'sersic_yc': src.sersic_yc,\n",
    "            'sersic_ellip': src.sersic_ellip,\n",
    "            'sersic_theta': src.sersic_theta,\n",
    "            'sersic_chi2_dof': src.sersic_chi2_dof,\n",
    "            'sky_mean': src.sky_mean,\n",
    "            'sky_median': src.sky_median,\n",
    "            'sky_sigma': src.sky_sigma,\n",
    "            'flag': src.flag,\n",
    "            'flag_sersic': src.flag_sersic,\n",
    "        })\n",
    "\n",
    "    sources = pd.DataFrame(sources)\n",
    "    if save:\n",
    "        if name is not None:\n",
    "            sources.to_csv(name)\n",
    "        else:\n",
    "            sources.to_csv('source_morphs.csv')\n",
    "    return sources"
   ]
  },
  {
   "cell_type": "code",
   "execution_count": null,
   "metadata": {},
   "outputs": [],
   "source": [
    "morph_df = create_df(morphs_list, save=True)"
   ]
  },
  {
   "cell_type": "code",
   "execution_count": null,
   "metadata": {},
   "outputs": [],
   "source": [
    "morph_df.insert(0, 'Radius (px)', rads)"
   ]
  },
  {
   "cell_type": "code",
   "execution_count": null,
   "metadata": {},
   "outputs": [],
   "source": [
    "morph_df.to_csv('abell2537_source_morphs.csv')"
   ]
  },
  {
   "cell_type": "code",
   "execution_count": null,
   "metadata": {},
   "outputs": [],
   "source": [
    "mask = circular_mask(drz, center, rads[0])\n",
    "display_img(image=drz, mask=mask)\n",
    "\n",
    "mask = circular_mask(drz, center, rads[9])\n",
    "display_img(image=drz, mask=mask)"
   ]
  },
  {
   "cell_type": "code",
   "execution_count": null,
   "metadata": {},
   "outputs": [],
   "source": []
  }
 ],
 "metadata": {
  "kernelspec": {
   "display_name": "cluster_morph",
   "language": "python",
   "name": "python3"
  },
  "language_info": {
   "codemirror_mode": {
    "name": "ipython",
    "version": 3
   },
   "file_extension": ".py",
   "mimetype": "text/x-python",
   "name": "python",
   "nbconvert_exporter": "python",
   "pygments_lexer": "ipython3",
   "version": "3.13.0"
  }
 },
 "nbformat": 4,
 "nbformat_minor": 2
}
