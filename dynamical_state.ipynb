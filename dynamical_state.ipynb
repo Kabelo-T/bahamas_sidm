{
 "cells": [
  {
   "cell_type": "code",
   "execution_count": null,
   "id": "322e1ccb",
   "metadata": {},
   "outputs": [],
   "source": [
    "import os\n",
    "\n",
    "import pandas as pd\n",
    "import matplotlib.pyplot as plt\n",
    "\n",
    "import utils.data as datutils\n",
    "import utils.plots as plots"
   ]
  },
  {
   "cell_type": "code",
   "execution_count": null,
   "id": "352c1a2c",
   "metadata": {},
   "outputs": [],
   "source": [
    "dsdf_list = []\n",
    "for file in sorted(os.listdir('data/gadgetx3k_20/G3X_progenitors/')):\n",
    "    ds_file = 'data/gadgetx3k_20/G3X_progenitors/' + file\n",
    "    ds_df = pd.read_csv(ds_file, sep=r'\\s+', index_col=False)\n",
    "    dsdf_list.append(ds_df)"
   ]
  },
  {
   "cell_type": "code",
   "execution_count": null,
   "id": "6694b2e4",
   "metadata": {},
   "outputs": [],
   "source": [
    "ds_corr_list = []\n",
    "for df in dsdf_list:\n",
    "    corr = df.corr(method='spearman')\n",
    "    ds_corr_list.append(corr)"
   ]
  },
  {
   "cell_type": "code",
   "execution_count": null,
   "id": "263315b2",
   "metadata": {},
   "outputs": [],
   "source": [
    "redshift_list = pd.read_csv('data/gadgetx3k_20/redshift_list.txt', sep=r'\\s+')\n",
    "redshift_list[32:]  # DS files start at snap 32"
   ]
  },
  {
   "cell_type": "code",
   "execution_count": null,
   "id": "ba11baff",
   "metadata": {},
   "outputs": [],
   "source": [
    "eta_delta200 = [df.loc['delta_200[4]', 'eta_200[3]'] for df in ds_corr_list]\n",
    "eta_fm200 = [df.loc['fm_200[5]', 'eta_200[3]'] for df in ds_corr_list]\n",
    "eta_fm2200 = [df.loc['fm2_200[6]', 'eta_200[3]'] for df in ds_corr_list]\n",
    "\n",
    "eta_delta500 = [df.loc['delta_500[9]', 'eta_500[8]'] for df in ds_corr_list]\n",
    "eta_fm500 = [df.loc['fm_500[10]', 'eta_500[8]'] for df in ds_corr_list]\n",
    "eta_fm2500 = [df.loc['fm2_500[11]', 'eta_500[8]'] for df in ds_corr_list]\n",
    "\n",
    "delta_eta200 = [df.loc['eta_200[3]', 'delta_200[4]'] for df in ds_corr_list]\n",
    "delta_fm200 = [df.loc['fm_200[5]', 'delta_200[4]'] for df in ds_corr_list]\n",
    "delta_fm2200 = [df.loc['fm2_200[6]', 'delta_200[4]'] for df in ds_corr_list]\n",
    "\n",
    "delta_eta500 = [df.loc['eta_500[8]', 'delta_500[9]'] for df in ds_corr_list]\n",
    "delta_fm500 = [df.loc['fm_500[10]', 'delta_500[9]'] for df in ds_corr_list]\n",
    "delta_fm2500 = [df.loc['fm2_500[11]', 'delta_500[9]'] for df in ds_corr_list]\n",
    "\n",
    "fm_eta200 = [df.loc['eta_200[3]', 'fm_200[5]'] for df in ds_corr_list]\n",
    "fm_delta200 = [df.loc['delta_200[4]', 'fm_200[5]'] for df in ds_corr_list]\n",
    "fm_fm2200 = [df.loc['fm2_200[6]', 'fm_200[5]'] for df in ds_corr_list]\n",
    "\n",
    "fm_eta500 = [df.loc['eta_500[8]', 'fm_500[10]'] for df in ds_corr_list]\n",
    "fm_delta500 = [df.loc['delta_500[9]', 'fm_500[10]'] for df in ds_corr_list]\n",
    "fm_fm2500 = [df.loc['fm2_500[11]', 'fm_500[10]'] for df in ds_corr_list]"
   ]
  },
  {
   "cell_type": "code",
   "execution_count": null,
   "id": "dd0c1772",
   "metadata": {},
   "outputs": [],
   "source": [
    "fig, axs = plt.subplots(nrows=3, ncols=2, figsize=(14, 20))\n",
    "\n",
    "axs[0][0].plot(redshift_list[32:]['a'], eta_fm200, label='fm')\n",
    "axs[0][0].plot(redshift_list[32:]['a'], eta_fm2200, label='fm2')\n",
    "axs[0][0].plot(redshift_list[32:]['a'], eta_delta200, label='delta')\n",
    "axs[0][0].set_ylabel(r'$\\rho_s (eta, X)_{200}$')\n",
    "axs[0][0].set_xlabel('aexp')\n",
    "axs[0][0].grid()\n",
    "axs[0][0].legend()\n",
    "\n",
    "axs[0][1].plot(redshift_list[32:]['a'], eta_fm500, label='fm')\n",
    "axs[0][1].plot(redshift_list[32:]['a'], eta_fm2500, label='fm2')\n",
    "axs[0][1].plot(redshift_list[32:]['a'], eta_delta500, label='delta')\n",
    "axs[0][1].set_ylabel(r'$\\rho_s (eta, X)_{500}$')\n",
    "axs[0][1].set_xlabel('aexp')\n",
    "axs[0][1].grid()\n",
    "axs[0][1].legend()\n",
    "\n",
    "axs[1][0].plot(redshift_list[32:]['a'], delta_eta200, label='eta')\n",
    "axs[1][0].plot(redshift_list[32:]['a'], delta_fm200, label='fm')\n",
    "axs[1][0].plot(redshift_list[32:]['a'], delta_fm2200, label='fm2')\n",
    "axs[1][0].set_ylabel(r'$\\rho_s (delta, X)_{200}$')\n",
    "axs[1][0].set_xlabel('aexp')\n",
    "axs[1][0].grid()\n",
    "axs[1][0].legend()\n",
    "\n",
    "axs[1][1].plot(redshift_list[32:]['a'], delta_eta500, label='eta')\n",
    "axs[1][1].plot(redshift_list[32:]['a'], delta_fm500, label='fm')\n",
    "axs[1][1].plot(redshift_list[32:]['a'], delta_fm2500, label='fm2')\n",
    "axs[1][1].set_ylabel(r'$\\rho_s (delta, X)_{500}$')\n",
    "axs[1][1].set_xlabel('aexp')\n",
    "axs[1][1].grid()\n",
    "axs[1][1].legend()\n",
    "\n",
    "axs[2][0].plot(redshift_list[32:]['a'], fm_eta200, label='eta')\n",
    "axs[2][0].plot(redshift_list[32:]['a'], fm_delta200, label='delta')\n",
    "axs[2][0].plot(redshift_list[32:]['a'], fm_fm2200, label='fm2')\n",
    "axs[2][0].set_ylabel(r'$\\rho_s (fm, X)_{200}$')\n",
    "axs[2][0].set_xlabel('aexp')\n",
    "axs[2][0].grid()\n",
    "axs[2][0].legend()\n",
    "\n",
    "axs[2][1].plot(redshift_list[32:]['a'], fm_eta500, label='eta')\n",
    "axs[2][1].plot(redshift_list[32:]['a'], fm_delta500, label='delta')\n",
    "axs[2][1].plot(redshift_list[32:]['a'], fm_fm2500, label='fm2')\n",
    "axs[2][1].set_ylabel(r'$\\rho_s (eta, X)_{500}$')\n",
    "axs[2][1].set_xlabel('aexp')\n",
    "axs[2][1].grid()\n",
    "axs[2][1].legend()\n",
    "\n",
    "plt.legend()\n",
    "plt.show()"
   ]
  },
  {
   "cell_type": "markdown",
   "id": "5673613a",
   "metadata": {},
   "source": [
    "## Heatmaps of DS(a=1) on Roan and Elena's files"
   ]
  },
  {
   "cell_type": "code",
   "execution_count": null,
   "id": "ccb41518",
   "metadata": {},
   "outputs": [],
   "source": [
    "rds_today = 'data/gadgetx3k_20/G3X_progenitors/DS_G3X_snap_128_center-cluster_progenitors.txt'\n",
    "rds_today = pd.read_csv(rds_today, sep=r'\\s+')\n",
    "rds_today.drop(labels=['rID[0]', 'Hid[1]', 'DS_200[2]', 'DS_500[7]'],\n",
    "               axis=1, inplace=True)\n",
    "rds_today = rds_today[:20]\n",
    "\n",
    "eds_today = 'data/gadgetx3k_20/snap_125.dyn'\n",
    "eds_today = pd.read_csv(eds_today, sep=r'\\s+', header=1)\n",
    "eds_today.drop(labels=['region'], inplace=True, axis=1)"
   ]
  },
  {
   "cell_type": "code",
   "execution_count": null,
   "id": "768ac00f",
   "metadata": {},
   "outputs": [],
   "source": [
    "rds_corr = rds_today.corr(method='spearman')\n",
    "plots.plot_corr_matrix(rds_corr)"
   ]
  },
  {
   "cell_type": "code",
   "execution_count": null,
   "id": "1f3a2084",
   "metadata": {},
   "outputs": [],
   "source": [
    "eds_corr = eds_today.corr(method='spearman')\n",
    "plots.plot_corr_matrix(eds_corr)"
   ]
  },
  {
   "cell_type": "code",
   "execution_count": null,
   "id": "2d247f1d",
   "metadata": {},
   "outputs": [],
   "source": []
  }
 ],
 "metadata": {
  "kernelspec": {
   "display_name": "cluster_morph",
   "language": "python",
   "name": "python3"
  },
  "language_info": {
   "codemirror_mode": {
    "name": "ipython",
    "version": 3
   },
   "file_extension": ".py",
   "mimetype": "text/x-python",
   "name": "python",
   "nbconvert_exporter": "python",
   "pygments_lexer": "ipython3",
   "version": "3.13.0"
  }
 },
 "nbformat": 4,
 "nbformat_minor": 5
}
