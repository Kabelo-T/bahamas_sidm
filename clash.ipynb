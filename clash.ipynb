{
 "cells": [
  {
   "cell_type": "code",
   "execution_count": 3,
   "metadata": {},
   "outputs": [],
   "source": [
    "import os\n",
    "\n",
    "import numpy as np\n",
    "import pandas as pd\n",
    "from astropy.io import fits\n",
    "import importlib\n",
    "\n",
    "import statmorph\n",
    "from statmorph.utils.image_diagnostics import make_figure\n",
    "from utils.data import segmentation_map, circular_mask, zoom_in, create_morph_df\n",
    "from utils.plots import plot_light, display_img\n",
    "%matplotlib inline"
   ]
  },
  {
   "cell_type": "code",
   "execution_count": 4,
   "metadata": {},
   "outputs": [],
   "source": [
    "data_dir = 'cluster_data/'\n",
    "drz_file = os.path.join(data_dir, 'hlsp_clash_hst_acs-wfc3ir_a383_total_v1_drz.fits')\n",
    "whz_file = os.path.join(data_dir, 'hlsp_clash_hst_acs-wfc3ir_a383_total_v1_whz.fits')\n",
    "hdulist = fits.open(drz_file)\n",
    "drz = hdulist[0].data"
   ]
  },
  {
   "cell_type": "code",
   "execution_count": 5,
   "metadata": {},
   "outputs": [],
   "source": [
    "full_segmap = segmentation_map(drz, nsigma=10.)"
   ]
  },
  {
   "cell_type": "code",
   "execution_count": null,
   "metadata": {},
   "outputs": [],
   "source": [
    "full_source_morphs = statmorph.source_morphology(image=drz,\n",
    "                                                 segmap=full_segmap,\n",
    "                                                 gain=2.25)"
   ]
  },
  {
   "cell_type": "code",
   "execution_count": 20,
   "metadata": {},
   "outputs": [],
   "source": [
    "def func(src):\n",
    "    return src.r50      # sort on half-light radius to get BCG\n",
    "\n",
    "full_source_morphs.sort(reverse=True, key=func)\n",
    "bcg = full_source_morphs[1]\n",
    "full_morph_df = create_morph_df(full_source_morphs)"
   ]
  },
  {
   "cell_type": "code",
   "execution_count": null,
   "metadata": {},
   "outputs": [],
   "source": [
    "make_figure(bcg)"
   ]
  },
  {
   "cell_type": "code",
   "execution_count": null,
   "metadata": {},
   "outputs": [],
   "source": [
    "zoomed_region, zoom_size = zoom_in(bcg, drz)\n",
    "plot_light(bcg, zoomed_region, zoom_size)"
   ]
  },
  {
   "cell_type": "code",
   "execution_count": null,
   "metadata": {},
   "outputs": [],
   "source": [
    "center = (bcg.xc_centroid, bcg.yc_centroid)\n",
    "rads = bcg.r50*np.linspace(1, 5, num=20)\n",
    "morphs_list = []\n",
    "for radius in rads:\n",
    "    mask = circular_mask(drz, center, radius)\n",
    "    # display_img(image=drz, mask=mask)\n",
    "    sm_mask = mask.astype(int)\n",
    "    morph = statmorph.source_morphology(drz,\n",
    "                                     segmap=sm_mask,\n",
    "                                     gain=2.25)\n",
    "    morphs_list.append(morph[0])"
   ]
  },
  {
   "cell_type": "code",
   "execution_count": 30,
   "metadata": {},
   "outputs": [],
   "source": [
    "morph_df = create_morph_df(morphs_list)"
   ]
  },
  {
   "cell_type": "code",
   "execution_count": null,
   "metadata": {},
   "outputs": [],
   "source": [
    "morph_df"
   ]
  },
  {
   "cell_type": "code",
   "execution_count": null,
   "metadata": {},
   "outputs": [],
   "source": []
  }
 ],
 "metadata": {
  "kernelspec": {
   "display_name": "cluster_morph",
   "language": "python",
   "name": "python3"
  },
  "language_info": {
   "codemirror_mode": {
    "name": "ipython",
    "version": 3
   },
   "file_extension": ".py",
   "mimetype": "text/x-python",
   "name": "python",
   "nbconvert_exporter": "python",
   "pygments_lexer": "ipython3",
   "version": "3.13.0"
  }
 },
 "nbformat": 4,
 "nbformat_minor": 2
}
